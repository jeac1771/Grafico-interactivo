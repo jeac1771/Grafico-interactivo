{
 "cells": [
  {
   "cell_type": "code",
   "execution_count": 1,
   "metadata": {},
   "outputs": [],
   "source": [
    "#pip install plotly==4.1.0\n",
    "\n",
    "import plotly.express as px\n",
    "import plotly.graph_objs as go\n",
    "\n",
    "import pandas as pd\n",
    "import numpy as np\n",
    "from ipywidgets import interactive, HBox, VBox\n",
    "from ipywidgets import interact\n"
   ]
  },
  {
   "cell_type": "code",
   "execution_count": 2,
   "metadata": {},
   "outputs": [],
   "source": [
    "from plotly.subplots import make_subplots\n",
    "from plotly import tools\n",
    "\n",
    "clasificar_j = pd.read_csv('ENORTE.csv', delimiter = ',') ## Import the dataset desde sklearn.datasets\n",
    "\n",
    "#clasificar_j.head()"
   ]
  },
  {
   "cell_type": "code",
   "execution_count": 3,
   "metadata": {
    "scrolled": true
   },
   "outputs": [],
   "source": [
    "from ipywidgets import widgets\n",
    "from IPython.display import clear_output\n",
    "\n",
    "t = np.linspace(-1,1.2,2000)\n",
    "x = clasificar_j['s3']\n",
    "y = clasificar_j['s1']\n",
    "\n",
    "def SetColor(x):\n",
    "    if(x == 0):\n",
    "        return \"blue\"\n",
    "    elif(x == 1):\n",
    "        return \"red\"\n",
    "    \n",
    "def NameUG(x):\n",
    "    if(x == 0):\n",
    "        return \"Used Data\"\n",
    "    elif(x == 1):\n",
    "        return \"Discarded\"\n",
    "    \n",
    "def UCSUG(x):\n",
    "    if(x == 0):\n",
    "        return \"Used UCS\"\n",
    "    elif(x == 1):\n",
    "        return \"Discarded UCS\"\n",
    "\n",
    "\n",
    "## definicion del grafico mediante plotly, la variable a cambiar corresponde al \"hue\"\n",
    "\n",
    "def plotpro(jk):\n",
    "\n",
    "    fig = make_subplots(rows=2, cols=3, specs=[[{\"type\": \"scatter\"},None, {\"type\": \"bar\"}],\n",
    "                                               [{\"type\": \"table\"}, None, {\"type\": \"scatter\"}]], column_widths=[0.2, 0.1, 0.7], row_heights=[1, 1])\n",
    "\n",
    "\n",
    "    for UG, stress in clasificar_j.groupby(jk):\n",
    "        fig.add_trace(go.Scatter(x=stress.s3, y=stress.s1, name=NameUG(UG), mode='markers',\n",
    "                                 marker=dict(size=10, opacity=0.7, line=dict(width=1), color=SetColor(UG))), row=1, col=3)\n",
    "        fig.update_xaxes(title_text=\"Sigma 3 (Mpa)\",titlefont=dict(family='Rockwell',size=15,color='lightgrey'), range=[-10, 30], row=1, col=3)\n",
    "        fig.update_yaxes(title_text=\"Sigma 1 (Mpa)\",titlefont=dict(family='Rockwell',size=15,color='lightgrey'), range=[0, 350], row=1, col=3)\n",
    "\n",
    "        fig.add_trace(go.Histogram(y=stress.s1, name= UCSUG(UG), xaxis='x2', yaxis='y2', opacity=0.6, marker_color=SetColor(UG)), row=1, col=1)\n",
    "        \n",
    "        # Add trace\n",
    "        fig.add_trace(\n",
    "            go.Scatter(x=(stress.x-17000)/1667, y=(stress.y-112000)/909, mode='markers', showlegend=False,\n",
    "                       marker=dict(color=SetColor(UG), size=10, opacity=0.3, line=dict(width=1, color='DarkSlateGrey')), xaxis='x3', yaxis='y3'), row=2, col=3)\n",
    "        # Constants, obtenidos de las propiedades de la imagen..\n",
    "        img_width = 11342\n",
    "        img_height = 12431\n",
    "        scale_factor = 0.0002\n",
    "        \n",
    "        fig.add_trace(go.Table(columnorder = [1,2], columnwidth = [50,50], header=dict(values=[\"<b>Parameter\", \"<b>Value\"],\n",
    "            font=dict(size=10), line_color='darkslategray', fill_color='lightskyblue',\n",
    "            align=\"center\"),\n",
    "        cells=dict(\n",
    "            values=[1,2], fill_color='lightcyan',\n",
    "            align = \"center\")), row=2, col=1)\n",
    "        \n",
    "    fig.update_xaxes(title_text=\"Histogram S1 (Mpa)\",titlefont=dict(family='Rockwell',size=15,color='lightgrey'), range=[30, 0], mirror=True, row=1, col=1)\n",
    "    fig.update_yaxes(range=[0, 350], showticklabels=False, row=1, col=1)\n",
    "    fig.update_xaxes(showline=True, linewidth=1, linecolor='black')\n",
    "    fig.update_yaxes(showline=True, linewidth=1, linecolor='black')\n",
    "    fig.layout.update(title_text=\"Plot Awards\",width = 800, height=800)\n",
    "    # Add images\n",
    "    fig.layout.update(\n",
    "        images=[\n",
    "            go.layout.Image(\n",
    "                source=\"Planta_EscondidaNorte_EOY23.png\",\n",
    "                xref=\"x3\",\n",
    "                yref=\"y3\",\n",
    "                x=0,\n",
    "                y=3,\n",
    "                sizex=img_width * scale_factor,\n",
    "                sizey=img_height * scale_factor,\n",
    "                sizing=\"stretch\",\n",
    "                opacity=0.7,\n",
    "                layer=\"below\")])\n",
    "    fig.layout.update(\n",
    "        yaxis3 = dict(scaleanchor = \"y3\", scaleratio = 1, range=[0.5, 3], domain=[0, 0.45], showgrid=False,showticklabels=False),\n",
    "        xaxis3 = dict(scaleanchor = \"x3\", scaleratio = 1, range=[0, 2.25], domain=[0.4, 0.85], showgrid=False, showticklabels=False))\n",
    "\n",
    "    fig.show()\n",
    "    \n",
    "\n",
    "\n",
    "################# codigo para utilizar: from ipywidgets import widgets. ################\n",
    "\n",
    "#origin = widgets.Dropdown(\n",
    "#    options=[\"TODOLIX\", \"PRIM\", \"PRIMSEC\", \"SEC\"],\n",
    "#    value='TODOLIX',\n",
    "#    description='Select Chart:',\n",
    "#)\n",
    "\n",
    "#display(origin)\n",
    "#output = widgets.Output()\n",
    "#display(output)\n",
    "\n",
    "#def on_change(change):\n",
    "#    with output:\n",
    "#        if change['type'] == 'change' and change['name'] == 'value':\n",
    "#            clear_output()\n",
    "#            plotpro(change['new'])\n",
    "\n",
    "#origin.observe(on_change)        \n",
    "\n",
    "######################## fin from ipywidgets import widgets ##########################\n"
   ]
  },
  {
   "cell_type": "code",
   "execution_count": 4,
   "metadata": {},
   "outputs": [
    {
     "data": {
      "application/javascript": [
       "IPython.OutputArea.auto_scroll_threshold = 9999;\n"
      ],
      "text/plain": [
       "<IPython.core.display.Javascript object>"
      ]
     },
     "metadata": {},
     "output_type": "display_data"
    }
   ],
   "source": [
    "%%javascript\n",
    "IPython.OutputArea.auto_scroll_threshold = 9999;"
   ]
  },
  {
   "cell_type": "code",
   "execution_count": 5,
   "metadata": {},
   "outputs": [
    {
     "data": {
      "application/vnd.jupyter.widget-view+json": {
       "model_id": "c77c5917fdb24ae88056d0cfdb673717",
       "version_major": 2,
       "version_minor": 0
      },
      "text/plain": [
       "interactive(children=(Dropdown(description='jk', options={'TODOLIX': 'TODOLIX', 'PRIM': 'PRIM'}, value='TODOLI…"
      ]
     },
     "metadata": {},
     "output_type": "display_data"
    },
    {
     "data": {
      "text/plain": [
       "<function __main__.plotpro(jk)>"
      ]
     },
     "execution_count": 5,
     "metadata": {},
     "output_type": "execute_result"
    }
   ],
   "source": [
    "interact(plotpro, jk={'TODOLIX':\"TODOLIX\", 'PRIM':\"PRIM\"})"
   ]
  },
  {
   "cell_type": "code",
   "execution_count": null,
   "metadata": {},
   "outputs": [],
   "source": []
  }
 ],
 "metadata": {
  "kernelspec": {
   "display_name": "Python 3",
   "language": "python",
   "name": "python3"
  },
  "language_info": {
   "codemirror_mode": {
    "name": "ipython",
    "version": 3
   },
   "file_extension": ".py",
   "mimetype": "text/x-python",
   "name": "python",
   "nbconvert_exporter": "python",
   "pygments_lexer": "ipython3",
   "version": "3.7.3"
  }
 },
 "nbformat": 4,
 "nbformat_minor": 2
}
